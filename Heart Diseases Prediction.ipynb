{
 "cells": [
  {
   "cell_type": "code",
   "execution_count": 2,
   "id": "e62e7f46-eca7-4849-abc8-fe9f3953933d",
   "metadata": {},
   "outputs": [],
   "source": [
    "#import necessary libraries\n",
    "import pandas as pd\n",
    "import numpy as np\n",
    "import warnings\n",
    "warnings.filterwarnings('ignore')\n"
   ]
  },
  {
   "cell_type": "code",
   "execution_count": 3,
   "id": "57244dda-d4a0-4c8d-b72d-66fb411d3643",
   "metadata": {},
   "outputs": [],
   "source": [
    "#Data Collection\n",
    "df = pd.read_csv('hearts.csv')    #to read the file\n",
    "##print(df)\n"
   ]
  },
  {
   "cell_type": "code",
   "execution_count": 4,
   "id": "2908cd81-528c-45eb-880e-d8837fdfff39",
   "metadata": {},
   "outputs": [],
   "source": [
    "##Data Preprocessing\n",
    "from sklearn.preprocessing import LabelEncoder\n",
    "le = LabelEncoder()"
   ]
  },
  {
   "cell_type": "code",
   "execution_count": 5,
   "id": "9cc66872-6df7-4a61-baaa-18a5cd0c967c",
   "metadata": {},
   "outputs": [],
   "source": [
    "#Transforming the Labels\n",
    "df['Sex'] = le.fit_transform(df['Sex'])\n",
    "df['ChestPainType'] = le.fit_transform(df['ChestPainType'])\n",
    "df['RestingECG'] = le.fit_transform(df['RestingECG'])\n",
    "df['ExerciseAngina'] = le.fit_transform(df['ExerciseAngina'])\n",
    "df['ST_Slope'] = le.fit_transform(df['ST_Slope'])"
   ]
  },
  {
   "cell_type": "code",
   "execution_count": 7,
   "id": "655bcfe4-788b-4b37-9064-36c95cf8af31",
   "metadata": {},
   "outputs": [],
   "source": [
    "d=df.drop(columns=['HeartDisease'])  #Target variable"
   ]
  },
  {
   "cell_type": "code",
   "execution_count": 8,
   "id": "9d0aac75-1826-4bcd-a416-1262746e4b87",
   "metadata": {},
   "outputs": [],
   "source": [
    "y=df['HeartDisease']      #Output"
   ]
  },
  {
   "cell_type": "code",
   "execution_count": null,
   "id": "f2069cf7-e55a-46d0-91c1-cc096a76ffe6",
   "metadata": {},
   "outputs": [],
   "source": []
  }
 ],
 "metadata": {
  "kernelspec": {
   "display_name": "Python 3 (ipykernel)",
   "language": "python",
   "name": "python3"
  },
  "language_info": {
   "codemirror_mode": {
    "name": "ipython",
    "version": 3
   },
   "file_extension": ".py",
   "mimetype": "text/x-python",
   "name": "python",
   "nbconvert_exporter": "python",
   "pygments_lexer": "ipython3",
   "version": "3.9.5"
  }
 },
 "nbformat": 4,
 "nbformat_minor": 5
}
